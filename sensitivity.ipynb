{
 "cells": [
  {
   "cell_type": "code",
   "execution_count": 1,
   "metadata": {},
   "outputs": [
    {
     "name": "stdout",
     "output_type": "stream",
     "text": [
      "Welcome to JupyROOT 6.16/00\n"
     ]
    }
   ],
   "source": [
    "import ROOT\n",
    "import numpy as np\n",
    "import pandas as pd\n",
    "import math"
   ]
  },
  {
   "cell_type": "code",
   "execution_count": 2,
   "metadata": {},
   "outputs": [
    {
     "name": "stdout",
     "output_type": "stream",
     "text": [
      "ls.C\t\t   test_WenTT.csv    test_ZeeTT.csv    test_ZnnTT.csv\r\n",
      "ls.C~\t\t   test_WenVj.csv    test_ZeeVj.csv    test_ZnnVj.csv\r\n",
      "out.txt\t\t   test_WenVV.csv    test_ZeeVV.csv    test_ZnnVV.csv\r\n",
      "outWen.txt\t   test_WenVVLF.csv  test_ZeeVVLF.csv  test_ZnnVVLF.csv\r\n",
      "outZnn.txt\t   test_Wmn.csv      test_Zmm.csv      vhbb_Wen-2017.root\r\n",
      "sensitivity_2.py   test_WmnTT.csv    test_ZmmTT.csv    vhbb_Wmn-2017.root\r\n",
      "sensitivity.ipynb  test_WmnVj.csv    test_ZmmVj.csv    vhbb_Zee-2017.root\r\n",
      "sensitivity.py\t   test_WmnVV.csv    test_ZmmVV.csv    vhbb_Zmm-2017.root\r\n",
      "sensitivity.py~    test_WmnVVLF.csv  test_ZmmVVLF.csv  vhbb_Znn-2017.root\r\n",
      "test_Wen.csv\t   test_Zee.csv      test_Znn.csv\r\n"
     ]
    }
   ],
   "source": [
    "!ls"
   ]
  },
  {
   "cell_type": "code",
   "execution_count": 3,
   "metadata": {},
   "outputs": [],
   "source": [
    "_verbos = 1"
   ]
  },
  {
   "cell_type": "code",
   "execution_count": 4,
   "metadata": {},
   "outputs": [],
   "source": [
    "def AsimovSignificance(h_s, h_b, sigma):\n",
    "    n_bins = h_s.GetNbinsX()\n",
    "    #sigma_b = sigma\n",
    "    #ar_AS = pd.DataFrame()\n",
    "    ar_AS = []\n",
    "    for n in range(n_bins):\n",
    "        #print n \n",
    "        s = h_s.GetBinContent(n)\n",
    "        b = h_b.GetBinContent(n)\n",
    "        sigma_b = h_b.GetBinError(n)\n",
    "        #print s\n",
    "        #print b\n",
    "        \n",
    "        AS = ROOT.RooStats.AsimovSignificance(s, b, sigma_b)\n",
    "\n",
    "        AS_0 = ROOT.RooStats.AsimovSignificance(s, b, 0)\n",
    "        #print AS\n",
    "        ar_AS_ = np.array([s, b, AS, sigma_b, AS_0])\n",
    "        ar_AS.append(ar_AS_)\n",
    "    return ar_AS"
   ]
  },
  {
   "cell_type": "code",
   "execution_count": 5,
   "metadata": {},
   "outputs": [],
   "source": [
    "def Sensitivity(df, name):\n",
    "    if _verbos > 1:\n",
    "        print(df)\n",
    "    df['AsimovSignificance2%s' %(name)] = df['AsimovSignificance%s' % (name)]**2 \n",
    "    sen = df[(df['AsimovSignificance2%s' %(name)] >0) & (df['AsimovSignificance2%s' %(name)] < float('inf'))].sum()\n",
    "    sen = sen['AsimovSignificance2%s' %(name)]\n",
    "    \n",
    "    df['AsimovSignificance2%s_0' %(name)] = df['AsimovSignificance%s_0' % (name)]**2 \n",
    "    sen_0 = df[(df['AsimovSignificance2%s_0' %(name)] >0) & (df['AsimovSignificance2%s_0' %(name)] < float('inf'))].sum()\n",
    "    sen_0 = sen_0['AsimovSignificance2%s_0' %(name)]\n",
    "    \n",
    "    return math.sqrt(sen), math.sqrt(sen_0)"
   ]
  },
  {
   "cell_type": "code",
   "execution_count": 13,
   "metadata": {},
   "outputs": [],
   "source": [
    "def calculate(filename, channel, input_sigma, probe, n_, a, b):\n",
    "    f_Zee = ROOT.TFile(\"%s\" % (filename))\n",
    "    h_s_low = ROOT.TH1F(\"h_s_low\", \"h_s_low\", n_, a, b)\n",
    "    h_s_med = ROOT.TH1F(\"h_s_med\", \"h_s_med\", n_, a, b)\n",
    "    h_s_med_ge1j = ROOT.TH1F(\"h_s_med_ge1j\", \"h_s_med_ge1j\", n_, a, b)\n",
    "    h_s_high = ROOT.TH1F(\"h_s_high\", \"h_s_high\", n_, a, b)\n",
    "\n",
    "    reg_nam = ['SR_low_Zee', 'SR_low_Zmm', 'SR_med_Zee_0j', 'SR_med_Zee_ge1j', 'SR_med_Zmm_0j', 'SR_med_Zmm_ge1j', 'SR_med_Znn_0j','SR_med_Znn_ge1j', 'SR_high_Zee', 'SR_high_Zmm', 'SR_high_Znn', 'SR_high_Wmn', 'SR_high_Wen', 'SR_med_Wmn_0j', 'SR_med_Wmn_ge1j','SR_med_Wen_0j','SR_med_Wen_ge1j']\n",
    "    sam_nam = ['WH_lep', 'ZH_lep', 'ggZH_lep']\n",
    "    #sam_nam = ['ZH_lep', 'ggZH_lep']\n",
    "    ptv = ['PTV_0_75_hbb', 'PTV_150_250_0J_hbb', 'PTV_150_250_GE1J_hbb', 'PTV_75_150_hbb', 'PTV_GT250_hbb']\n",
    "    #ptv = ['PTV_0_75_hbb',   'PTV_75_150_hbb']\n",
    "\n",
    "    for reg in reg_nam:\n",
    "        for sam in sam_nam:\n",
    "            if \"%s\" %(channel) not in reg: break\n",
    "            for pt in ptv:\n",
    "                if \"low\" in reg:\n",
    "                    h_ = ROOT.TH1F()\n",
    "                    h_.Clear()\n",
    "                    h_ = f_Zee.Get(\"BDT_%s_%s_%s\"%(reg, sam, pt))\n",
    "                    h_s_low.Add(h_)\n",
    "                if \"med\" in reg and \"0j\" in reg:\n",
    "                    #break\n",
    "                    h_ = ROOT.TH1F()\n",
    "                    h_.Clear()\n",
    "                    h_ = f_Zee.Get(\"BDT_%s_%s_%s\"%(reg, sam, pt))\n",
    "                    h_s_med.Add(h_)\n",
    "                if \"med\" in reg and \"ge1j\" in reg:\n",
    "                    #break\n",
    "                    h_ = ROOT.TH1F()\n",
    "                    h_.Clear()\n",
    "                    h_ = f_Zee.Get(\"BDT_%s_%s_%s\"%(reg, sam, pt))\n",
    "                    h_s_med_ge1j.Add(h_)                    \n",
    "                if \"high\" in reg:\n",
    "                    h_ = ROOT.TH1F()\n",
    "                    h_.Clear()\n",
    "                    h_ = f_Zee.Get(\"BDT_%s_%s_%s\"%(reg, sam, pt))\n",
    "                    h_s_high.Add(h_)\n",
    "    \n",
    "    region_name = [ 'SR_low_Zee', 'SR_low_Zmm', 'SR_med_Zee_0j', 'SR_med_Zee_ge1j', 'SR_med_Zmm_0j', 'SR_med_Zmm_ge1j', 'SR_med_Znn_0j','SR_med_Znn_ge1j', 'SR_high_Zee', 'SR_high_Zmm', 'SR_high_Znn', 'SR_high_Wmn', 'SR_high_Wen', 'SR_med_Wmn_0j', 'SR_med_Wmn_ge1j','SR_med_Wen_0j','SR_med_Wen_ge1j']\n",
    "    region_name = [ 'SR_low_Zee', 'SR_low_Zmm','SR_med_Zee_0j', 'SR_med_Zee_ge1j','SR_med_Zmm_0j', 'SR_med_Zmm_ge1j', 'SR_med_Znn_0j','SR_med_Znn_ge1j', 'SR_high_Zee', 'SR_high_Zmm', 'SR_high_Znn', 'SR_high_Wmn', 'SR_high_Wen', 'SR_med_Wmn_0j', 'SR_med_Wmn_ge1j','SR_med_Wen_0j','SR_med_Wen_ge1j']\n",
    "\n",
    "    sample_name = ['TT', 'VVHF', 'VVLF', 'Wj0b', 'Wj1b', 'Wj2b', 'Zj0b', 'Zj1b', 'Zj2b', 's_Top']\n",
    "    h_b_low = ROOT.TH1F(\"h_b_low\", \"h_b_low\", n_, a, b)\n",
    "    h_b_med = ROOT.TH1F(\"h_b_med\", \"h_b_med\", n_, a, b)\n",
    "    h_b_med_ge1j = ROOT.TH1F(\"h_b_med_ge1j\", \"h_b_med_ge1j\", n_, a, b)\n",
    "\n",
    "    h_b_high = ROOT.TH1F(\"h_b_high\", \"h_b_high\", n_, a, b)\n",
    "\n",
    "    for region in region_name:\n",
    "        for sample in sample_name:\n",
    "            if \"%s\" %(channel) not in region: break\n",
    "            if \"low\" in region:\n",
    "                h_ = ROOT.TH1F()\n",
    "                h_.Clear()\n",
    "                h_ = f_Zee.Get(\"BDT_%s_%s\"%(region, sample))\n",
    "                if probe in sample:\n",
    "                    n_bns = h_.GetNbinsX()\n",
    "                    for n in range(n_bns):\n",
    "                        sgma_b = h_.GetBinError(n)\n",
    "                        #print(sgma_b, sgma_b/math.sqrt(2.))\n",
    "                        h_.SetBinError(n, sgma_b/math.sqrt(2.))\n",
    "                        #print(sgma_b, h_.GetBinError(n))\n",
    "                if _verbos > 1: print(\"BDT_%s_%s\"%(region, sample))\n",
    "                h_b_low.Add(h_)\n",
    "            if \"high\" in region:\n",
    "                if channel==\"Znn\" and \"Wj2b\" in sample: continue \n",
    "                h_ = ROOT.TH1F()\n",
    "                h_.Clear()\n",
    "                h_ = f_Zee.Get(\"BDT_%s_%s\"%(region, sample))\n",
    "                if probe in sample:\n",
    "                    n_bns = h_.GetNbinsX()\n",
    "                    for n in range(n_bns):\n",
    "                        sgma_b = h_.GetBinError(n)\n",
    "                        h_.SetBinError(n, sgma_b/math.sqrt(2.))                \n",
    "                if _verbos > 1: print(\"BDT_%s_%s\"%(region, sample))\n",
    "                h_b_high.Add(h_)\n",
    "            if \"med\" in region and \"0j\" in region:\n",
    "                #break\n",
    "                h_ = ROOT.TH1F()\n",
    "                h_.Clear()\n",
    "                h_ = f_Zee.Get(\"BDT_%s_%s\"%(region, sample))\n",
    "                if probe in sample:\n",
    "                    n_bns = h_.GetNbinsX()\n",
    "                    for n in range(n_bns):\n",
    "                        sgma_b = h_.GetBinError(n)\n",
    "                        h_.SetBinError(n, sgma_b/math.sqrt(2.))                \n",
    "                if _verbos > 1: print(\"BDT_%s_%s\"%(region, sample))\n",
    "                h_b_med.Add(h_)\n",
    "            if \"med\" in region and \"ge1j\" in region:\n",
    "                #break\n",
    "                h_ = ROOT.TH1F()\n",
    "                h_.Clear()\n",
    "                h_ = f_Zee.Get(\"BDT_%s_%s\"%(region, sample))\n",
    "                if probe in sample:\n",
    "                    n_bns = h_.GetNbinsX()\n",
    "                    for n in range(n_bns):\n",
    "                        sgma_b = h_.GetBinError(n)\n",
    "                        h_.SetBinError(n, sgma_b/math.sqrt(2.))                \n",
    "                if _verbos > 1: print(\"BDT_%s_%s\"%(region, sample))\n",
    "                h_b_med_ge1j.Add(h_)\n",
    "            \n",
    "\n",
    "    \n",
    "    \n",
    "    dict_AS = {}\n",
    "\n",
    "    sigma_b = input_sigma\n",
    "    region_names = [ 'SR_low_Zee', 'SR_low_Zmm','SR_med_Zee_0j', 'SR_med_Zee_ge1j','SR_med_Zmm_0j', 'SR_med_Zmm_ge1j', 'SR_med_Znn_0j','SR_med_Znn_ge1j', 'SR_high_Zee', 'SR_high_Zmm', 'SR_high_Znn', 'SR_high_Wmn', 'SR_high_Wen', 'SR_med_Wmn_0j', 'SR_med_Wmn_ge1j','SR_med_Wen_0j','SR_med_Wen_ge1j']\n",
    "\n",
    "    for region in region_names:\n",
    "        if \"%s\" %(channel) not in region: continue\n",
    "        if _verbos > 1: print(region)\n",
    "        #print(\"BDT_%s_TT\" % (region))\n",
    "        #print(\"BDT_%s_%s\" % (region, sample))\n",
    "        if \"low\" in region:\n",
    "            h_s = h_s_low.Clone()\n",
    "            h_b = h_b_low.Clone()\n",
    "        if \"high\" in region:\n",
    "            h_s = h_s_high.Clone()\n",
    "            h_b = h_b_high.Clone()\n",
    "        if \"med\" in region and \"0j\" in region:\n",
    "            h_s = h_s_med.Clone()\n",
    "            h_b = h_b_med.Clone()\n",
    "        if \"med\" in region and \"ge1j\" in region:\n",
    "            h_s = h_s_med_ge1j.Clone()\n",
    "            h_b = h_b_med_ge1j.Clone()\n",
    "        \n",
    "                \n",
    "        #h_b = f_Zee.Get(\"BDT_%s_%s\" % (region, sample))\n",
    "        l = AsimovSignificance(h_s, h_b, sigma_b)\n",
    "        df = pd.DataFrame(l, columns=['signal', 'background', 'AsimovSignificance%s' %(region), 'sigma_b', 'AsimovSignificance%s_0' %(region)])\n",
    "        sen, sen_0 = Sensitivity(df, region)\n",
    "        dict_AS.update({region : [sen, sen_0 ]})\n",
    "\n",
    "    df_AS = pd.DataFrame.from_dict(dict_AS, orient='index', columns=['AsimovSignificance', 'AsimovSignificance_0'])\n",
    "\n",
    "    return df_AS"
   ]
  },
  {
   "cell_type": "markdown",
   "metadata": {},
   "source": [
    "Zee AMS:"
   ]
  },
  {
   "cell_type": "code",
   "execution_count": 15,
   "metadata": {
    "scrolled": true
   },
   "outputs": [
    {
     "name": "stdout",
     "output_type": "stream",
     "text": [
      ",AsimovSignificance,AsimovSignificance_0,ratio=(AS_0-AS)/AS_0\r\n",
      "SR_high_Zee,0.6322607852681823,0.6789413012018976,0.06875486268264863\r\n",
      "SR_med_Zee_ge1j,0.5554824100621002,0.5920300987482715,0.0617328219687547\r\n",
      "SR_med_Zee_0j,0.7999109914493602,0.8584333317152688,0.068173424893664\r\n",
      "SR_low_Zee,0.5900068004039632,0.7082241224187588,0.1669207787092233\r\n"
     ]
    }
   ],
   "source": [
    "_verbos=1\n",
    "test_Zee = calculate(\"vhbb_Zee-2017.root\", \"Zee\", 0, \"aaa\", 20, -1, 1)\n",
    "test_Zee['ratio=(AS_0-AS)/AS_0'] = (test_Zee['AsimovSignificance_0'] - test_Zee['AsimovSignificance'])/test_Zee['AsimovSignificance_0']\n",
    "#print(test_Zee)\n",
    "test_Zee.to_csv(\"test_Zee.csv\")\n",
    "!cat test_Zee.csv"
   ]
  },
  {
   "cell_type": "code",
   "execution_count": 16,
   "metadata": {
    "scrolled": true
   },
   "outputs": [
    {
     "name": "stdout",
     "output_type": "stream",
     "text": [
      ",AsimovSignificance,AsimovSignificance_0,ratio=(AS_0-AS)/AS_0\r\n",
      "SR_high_Zee,0.6322965314706867,0.6789413012018976,0.06870221276660866\r\n",
      "SR_med_Zee_ge1j,0.5568238301300666,0.5920300987482715,0.05946702489052741\r\n",
      "SR_med_Zee_0j,0.8007115146647419,0.8584333317152688,0.06724088513104533\r\n",
      "SR_low_Zee,0.5930104676408493,0.7082241224187588,0.1626796534187887\r\n"
     ]
    }
   ],
   "source": [
    "test_Zee = calculate(\"vhbb_Zee-2017.root\", \"Zee\", 0, \"TT\", 20, -1, 1)\n",
    "test_Zee['ratio=(AS_0-AS)/AS_0'] = (test_Zee['AsimovSignificance_0'] - test_Zee['AsimovSignificance'])/test_Zee['AsimovSignificance_0']\n",
    "#print(test_Zee)\n",
    "test_Zee.to_csv(\"test_ZeeTT.csv\")\n",
    "!cat test_ZeeTT.csv"
   ]
  },
  {
   "cell_type": "code",
   "execution_count": 17,
   "metadata": {},
   "outputs": [
    {
     "name": "stdout",
     "output_type": "stream",
     "text": [
      ",AsimovSignificance,AsimovSignificance_0,ratio=(AS_0-AS)/AS_0\r\n",
      "SR_high_Zee,0.6361663048250984,0.6789413012018976,0.06300249565179879\r\n",
      "SR_med_Zee_ge1j,0.5581352741817585,0.5920300987482715,0.05725186040063982\r\n",
      "SR_med_Zee_0j,0.8028267178962821,0.8584333317152688,0.06477685775303826\r\n",
      "SR_low_Zee,0.5908311824491181,0.7082241224187588,0.16575676576606144\r\n"
     ]
    }
   ],
   "source": [
    "test_Zee = calculate(\"vhbb_Zee-2017.root\", \"Zee\", 0, \"VV\", 20, -1, 1)\n",
    "test_Zee['ratio=(AS_0-AS)/AS_0'] = (test_Zee['AsimovSignificance_0'] - test_Zee['AsimovSignificance'])/test_Zee['AsimovSignificance_0']\n",
    "#print(test_Zee)\n",
    "test_Zee.to_csv(\"test_ZeeVV.csv\")\n",
    "!cat test_ZeeVV.csv"
   ]
  },
  {
   "cell_type": "code",
   "execution_count": 18,
   "metadata": {},
   "outputs": [
    {
     "name": "stdout",
     "output_type": "stream",
     "text": [
      ",AsimovSignificance,AsimovSignificance_0,ratio=(AS_0-AS)/AS_0\r\n",
      "SR_high_Zee,0.6323917039037503,0.6789413012018976,0.06856203506215144\r\n",
      "SR_med_Zee_ge1j,0.5555201904389752,0.5920300987482715,0.06166900700908484\r\n",
      "SR_med_Zee_0j,0.79998045197544,0.8584333317152688,0.06809250943580192\r\n",
      "SR_low_Zee,0.5900190317348472,0.7082241224187588,0.1669035082852195\r\n"
     ]
    }
   ],
   "source": [
    "test_Zee = calculate(\"vhbb_Zee-2017.root\", \"Zee\", 0, \"VVLF\", 20, -1, 1)\n",
    "test_Zee['ratio=(AS_0-AS)/AS_0'] = (test_Zee['AsimovSignificance_0'] - test_Zee['AsimovSignificance'])/test_Zee['AsimovSignificance_0']\n",
    "#print(test_Zee)\n",
    "test_Zee.to_csv(\"test_ZeeVVLF.csv\")\n",
    "!cat test_ZeeVVLF.csv"
   ]
  },
  {
   "cell_type": "code",
   "execution_count": 19,
   "metadata": {},
   "outputs": [
    {
     "name": "stdout",
     "output_type": "stream",
     "text": [
      ",AsimovSignificance,AsimovSignificance_0,ratio=(AS_0-AS)/AS_0\r\n",
      "SR_high_Zee,0.6498118119071743,0.6789413012018976,0.04290428236308014\r\n",
      "SR_med_Zee_ge1j,0.5683976865339366,0.5920300987482715,0.03991758571785599\r\n",
      "SR_med_Zee_0j,0.8232523690396396,0.8584333317152688,0.040982754718217614\r\n",
      "SR_low_Zee,0.6330414029329852,0.7082241224187588,0.10615667711092105\r\n"
     ]
    }
   ],
   "source": [
    "test_Zee = calculate(\"vhbb_Zee-2017.root\", \"Zee\", 0, \"j\", 20, -1, 1)\n",
    "test_Zee['ratio=(AS_0-AS)/AS_0'] = (test_Zee['AsimovSignificance_0'] - test_Zee['AsimovSignificance'])/test_Zee['AsimovSignificance_0']\n",
    "#print(test_Zee)\n",
    "test_Zee.to_csv(\"test_ZeeVj.csv\")\n",
    "!cat test_ZeeVj.csv"
   ]
  },
  {
   "cell_type": "markdown",
   "metadata": {},
   "source": [
    "Zmm AMS:"
   ]
  },
  {
   "cell_type": "code",
   "execution_count": 20,
   "metadata": {},
   "outputs": [
    {
     "name": "stdout",
     "output_type": "stream",
     "text": [
      ",AsimovSignificance,AsimovSignificance_0,ratio=(AS_0-AS)/AS_0\r\n",
      "SR_high_Zmm,0.7236043043843104,0.7772729317231171,0.06904733864825316\r\n",
      "SR_med_Zmm_ge1j,0.6448617714079454,0.6950647061668356,0.07222771392860797\r\n",
      "SR_med_Zmm_0j,0.9227698737397871,0.987916516848541,0.06594346991643786\r\n",
      "SR_low_Zmm,0.7242509677970452,0.868058059138925,0.16566529142593295\r\n"
     ]
    }
   ],
   "source": [
    "test_Zmm = calculate(\"vhbb_Zmm-2017.root\", \"Zmm\", 0, \"aaa\", 20, -1, 1)\n",
    "test_Zmm['ratio=(AS_0-AS)/AS_0'] = (test_Zmm['AsimovSignificance_0'] - test_Zmm['AsimovSignificance'])/test_Zmm['AsimovSignificance_0']\n",
    "#print(test_Zee)\n",
    "test_Zmm.to_csv(\"test_Zmm.csv\")\n",
    "!cat test_Zmm.csv"
   ]
  },
  {
   "cell_type": "code",
   "execution_count": 21,
   "metadata": {},
   "outputs": [
    {
     "name": "stdout",
     "output_type": "stream",
     "text": [
      ",AsimovSignificance,AsimovSignificance_0,ratio=(AS_0-AS)/AS_0\r\n",
      "SR_high_Zmm,0.7237553686818818,0.7772729317231171,0.06885298697150494\r\n",
      "SR_med_Zmm_ge1j,0.6467140486359787,0.6950647061668356,0.06956281494639914\r\n",
      "SR_med_Zmm_0j,0.9243318386196564,0.987916516848541,0.06436240020737789\r\n",
      "SR_low_Zmm,0.7281239055293004,0.868058059138925,0.16120368002623356\r\n"
     ]
    }
   ],
   "source": [
    "test_Zmm = calculate(\"vhbb_Zmm-2017.root\", \"Zmm\", 0, \"TT\", 20, -1, 1)\n",
    "test_Zmm['ratio=(AS_0-AS)/AS_0'] = (test_Zmm['AsimovSignificance_0'] - test_Zmm['AsimovSignificance'])/test_Zmm['AsimovSignificance_0']\n",
    "#print(test_Zee)\n",
    "test_Zmm.to_csv(\"test_ZmmTT.csv\")\n",
    "!cat test_ZmmTT.csv"
   ]
  },
  {
   "cell_type": "code",
   "execution_count": 22,
   "metadata": {},
   "outputs": [
    {
     "name": "stdout",
     "output_type": "stream",
     "text": [
      ",AsimovSignificance,AsimovSignificance_0,ratio=(AS_0-AS)/AS_0\r\n",
      "SR_high_Zmm,0.7281129761204621,0.7772729317231171,0.06324670987020412\r\n",
      "SR_med_Zmm_ge1j,0.64787847384911,0.6950647061668356,0.06788753895727156\r\n",
      "SR_med_Zmm_0j,0.9253234564750549,0.987916516848541,0.06335865359672121\r\n",
      "SR_low_Zmm,0.7253216922697894,0.868058059138925,0.1644318203908201\r\n"
     ]
    }
   ],
   "source": [
    "test_Zmm = calculate(\"vhbb_Zmm-2017.root\", \"Zmm\", 0, \"VV\", 20, -1, 1)\n",
    "test_Zmm['ratio=(AS_0-AS)/AS_0'] = (test_Zmm['AsimovSignificance_0'] - test_Zmm['AsimovSignificance'])/test_Zmm['AsimovSignificance_0']\n",
    "#print(test_Zee)\n",
    "test_Zmm.to_csv(\"test_ZmmVV.csv\")\n",
    "!cat test_ZmmVV.csv"
   ]
  },
  {
   "cell_type": "code",
   "execution_count": 23,
   "metadata": {},
   "outputs": [
    {
     "name": "stdout",
     "output_type": "stream",
     "text": [
      ",AsimovSignificance,AsimovSignificance_0,ratio=(AS_0-AS)/AS_0\r\n",
      "SR_high_Zmm,0.7239820808076615,0.7772729317231171,0.06856131062909451\r\n",
      "SR_med_Zmm_ge1j,0.6449237753384364,0.6950647061668356,0.07213850794542277\r\n",
      "SR_med_Zmm_0j,0.9228400254142445,0.987916516848541,0.06587246019723494\r\n",
      "SR_low_Zmm,0.7242735037814846,0.868058059138925,0.16563933004673476\r\n"
     ]
    }
   ],
   "source": [
    "test_Zmm = calculate(\"vhbb_Zmm-2017.root\", \"Zmm\", 0, \"VVLF\", 20, -1, 1)\n",
    "test_Zmm['ratio=(AS_0-AS)/AS_0'] = (test_Zmm['AsimovSignificance_0'] - test_Zmm['AsimovSignificance'])/test_Zmm['AsimovSignificance_0']\n",
    "#print(test_Zee)\n",
    "test_Zmm.to_csv(\"test_ZmmVVLF.csv\")\n",
    "!cat test_ZmmVVLF.csv"
   ]
  },
  {
   "cell_type": "code",
   "execution_count": 24,
   "metadata": {},
   "outputs": [
    {
     "name": "stdout",
     "output_type": "stream",
     "text": [
      ",AsimovSignificance,AsimovSignificance_0,ratio=(AS_0-AS)/AS_0\r\n",
      "SR_high_Zmm,0.7439048525701141,0.7772729317231171,0.04292968118551373\r\n",
      "SR_med_Zmm_ge1j,0.6630084790227099,0.6950647061668356,0.04611977397170744\r\n",
      "SR_med_Zmm_0j,0.9488391393241543,0.987916516848541,0.03955534385541373\r\n",
      "SR_low_Zmm,0.7785468307058333,0.868058059138925,0.10311663775333511\r\n"
     ]
    }
   ],
   "source": [
    "test_Zmm = calculate(\"vhbb_Zmm-2017.root\", \"Zmm\", 0, \"j\", 20, -1, 1)\n",
    "test_Zmm['ratio=(AS_0-AS)/AS_0'] = (test_Zmm['AsimovSignificance_0'] - test_Zmm['AsimovSignificance'])/test_Zmm['AsimovSignificance_0']\n",
    "#print(test_Zee)\n",
    "test_Zmm.to_csv(\"test_ZmmVj.csv\")\n",
    "!cat test_ZmmVj.csv"
   ]
  },
  {
   "cell_type": "markdown",
   "metadata": {},
   "source": [
    "Wen AMS:"
   ]
  },
  {
   "cell_type": "code",
   "execution_count": 25,
   "metadata": {},
   "outputs": [
    {
     "name": "stdout",
     "output_type": "stream",
     "text": [
      ",AsimovSignificance,AsimovSignificance_0,ratio=(AS_0-AS)/AS_0\r\n",
      "SR_med_Wen_ge1j,0.2635508952013455,0.2956839751666351,0.10867372825051044\r\n",
      "SR_med_Wen_0j,0.9158982713578641,1.0301115529789004,0.11087467303007308\r\n",
      "SR_high_Wen,0.9488430560652082,1.0324724111996086,0.08099911845318283\r\n"
     ]
    }
   ],
   "source": [
    "test_Wen = calculate(\"vhbb_Wen-2017.root\", \"Wen\", 0, \"aaa\", 15, 0, 1)\n",
    "test_Wen['ratio=(AS_0-AS)/AS_0'] = (test_Wen['AsimovSignificance_0'] - test_Wen['AsimovSignificance'])/test_Wen['AsimovSignificance_0']\n",
    "#print(test_Wen)\n",
    "test_Wen.to_csv(\"test_Wen.csv\")\n",
    "!cat test_Wen.csv"
   ]
  },
  {
   "cell_type": "code",
   "execution_count": 26,
   "metadata": {},
   "outputs": [
    {
     "name": "stdout",
     "output_type": "stream",
     "text": [
      ",AsimovSignificance,AsimovSignificance_0,ratio=(AS_0-AS)/AS_0\r\n",
      "SR_med_Wen_ge1j,0.2740785457944522,0.2956839751666351,0.07306932802160479\r\n",
      "SR_med_Wen_0j,0.9351361559321311,1.0301115529789004,0.09219913782358555\r\n",
      "SR_high_Wen,0.9626951663067066,1.0324724111996086,0.0675826725595789\r\n"
     ]
    }
   ],
   "source": [
    "test_Wen = calculate(\"vhbb_Wen-2017.root\", \"Wen\", 0, \"TT\", 15, 0, 1)\n",
    "test_Wen['ratio=(AS_0-AS)/AS_0'] = (test_Wen['AsimovSignificance_0'] - test_Wen['AsimovSignificance'])/test_Wen['AsimovSignificance_0']\n",
    "#print(test_Wen)\n",
    "test_Wen.to_csv(\"test_WenTT.csv\")\n",
    "!cat test_WenTT.csv"
   ]
  },
  {
   "cell_type": "code",
   "execution_count": 27,
   "metadata": {},
   "outputs": [
    {
     "name": "stdout",
     "output_type": "stream",
     "text": [
      ",AsimovSignificance,AsimovSignificance_0,ratio=(AS_0-AS)/AS_0\r\n",
      "SR_med_Wen_ge1j,0.2635669298208357,0.2956839751666351,0.10861949934114482\r\n",
      "SR_med_Wen_0j,0.9159688620431478,1.0301115529789004,0.11080614580592967\r\n",
      "SR_high_Wen,0.9489635197147108,1.0324724111996086,0.08088244352008452\r\n"
     ]
    }
   ],
   "source": [
    "test_Wen = calculate(\"vhbb_Wen-2017.root\", \"Wen\", 0, \"VV\", 15, 0, 1)\n",
    "test_Wen['ratio=(AS_0-AS)/AS_0'] = (test_Wen['AsimovSignificance_0'] - test_Wen['AsimovSignificance'])/test_Wen['AsimovSignificance_0']\n",
    "#print(test_Wen)\n",
    "test_Wen.to_csv(\"test_WenVV.csv\")\n",
    "!cat test_WenVV.csv"
   ]
  },
  {
   "cell_type": "code",
   "execution_count": 28,
   "metadata": {},
   "outputs": [
    {
     "name": "stdout",
     "output_type": "stream",
     "text": [
      ",AsimovSignificance,AsimovSignificance_0,ratio=(AS_0-AS)/AS_0\r\n",
      "SR_med_Wen_ge1j,0.26355388405486696,0.2956839751666351,0.10866361998028791\r\n",
      "SR_med_Wen_0j,0.915905168850569,1.0301115529789004,0.11086797716040242\r\n",
      "SR_high_Wen,0.9488430560651311,1.0324724111996086,0.08099911845325757\r\n"
     ]
    }
   ],
   "source": [
    "test_Wen = calculate(\"vhbb_Wen-2017.root\", \"Wen\", 0, \"VVLF\", 15, 0, 1)\n",
    "test_Wen['ratio=(AS_0-AS)/AS_0'] = (test_Wen['AsimovSignificance_0'] - test_Wen['AsimovSignificance'])/test_Wen['AsimovSignificance_0']\n",
    "#print(test_Wen)\n",
    "test_Wen.to_csv(\"test_WenVVLF.csv\")\n",
    "!cat test_WenVVLF.csv"
   ]
  },
  {
   "cell_type": "code",
   "execution_count": 29,
   "metadata": {},
   "outputs": [
    {
     "name": "stdout",
     "output_type": "stream",
     "text": [
      ",AsimovSignificance,AsimovSignificance_0,ratio=(AS_0-AS)/AS_0\r\n",
      "SR_med_Wen_ge1j,0.2654193539326949,0.2956839751666351,0.10235462106759191\r\n",
      "SR_med_Wen_0j,0.9316259790709344,1.0301115529789004,0.09560670747082024\r\n",
      "SR_high_Wen,0.9642207924394437,1.0324724111996086,0.066105029073721\r\n"
     ]
    }
   ],
   "source": [
    "test_Wen = calculate(\"vhbb_Wen-2017.root\", \"Wen\", 0, \"j\", 15, 0, 1)\n",
    "test_Wen['ratio=(AS_0-AS)/AS_0'] = (test_Wen['AsimovSignificance_0'] - test_Wen['AsimovSignificance'])/test_Wen['AsimovSignificance_0']\n",
    "#print(test_Wen)\n",
    "test_Wen.to_csv(\"test_WenVj.csv\")\n",
    "!cat test_WenVj.csv"
   ]
  },
  {
   "cell_type": "markdown",
   "metadata": {},
   "source": [
    "Wmn AMS:"
   ]
  },
  {
   "cell_type": "code",
   "execution_count": 30,
   "metadata": {},
   "outputs": [
    {
     "name": "stdout",
     "output_type": "stream",
     "text": [
      ",AsimovSignificance,AsimovSignificance_0,ratio=(AS_0-AS)/AS_0\r\n",
      "SR_med_Wmn_ge1j,0.32182262494928565,0.3613190740413683,0.10931182970860989\r\n",
      "SR_med_Wmn_0j,1.1762677932132863,1.2944830714163442,0.0913223825118964\r\n",
      "SR_high_Wmn,1.0040708481092404,1.1346675321666178,0.1150968723040893\r\n"
     ]
    }
   ],
   "source": [
    "test_Wmn = calculate(\"vhbb_Wmn-2017.root\", \"Wmn\", 0, \"aaa\", 15, 0, 1)\n",
    "test_Wmn['ratio=(AS_0-AS)/AS_0'] = (test_Wmn['AsimovSignificance_0'] - test_Wmn['AsimovSignificance'])/test_Wmn['AsimovSignificance_0']\n",
    "#print(test_Wen)\n",
    "test_Wmn.to_csv(\"test_Wmn.csv\")\n",
    "!cat test_Wmn.csv"
   ]
  },
  {
   "cell_type": "code",
   "execution_count": 31,
   "metadata": {},
   "outputs": [
    {
     "name": "stdout",
     "output_type": "stream",
     "text": [
      ",AsimovSignificance,AsimovSignificance_0,ratio=(AS_0-AS)/AS_0\r\n",
      "SR_med_Wmn_ge1j,0.3343310600362577,0.3613190740413683,0.07469302326956787\r\n",
      "SR_med_Wmn_0j,1.1986095949661406,1.2944830714163442,0.07406313652700357\r\n",
      "SR_high_Wmn,1.0226111061025867,1.1346675321666178,0.09875705692403335\r\n"
     ]
    }
   ],
   "source": [
    "test_Wmn = calculate(\"vhbb_Wmn-2017.root\", \"Wmn\", 0, \"TT\", 15, 0, 1)\n",
    "test_Wmn['ratio=(AS_0-AS)/AS_0'] = (test_Wmn['AsimovSignificance_0'] - test_Wmn['AsimovSignificance'])/test_Wmn['AsimovSignificance_0']\n",
    "#print(test_Wen)\n",
    "test_Wmn.to_csv(\"test_WmnTT.csv\")\n",
    "!cat test_WmnTT.csv"
   ]
  },
  {
   "cell_type": "code",
   "execution_count": 32,
   "metadata": {},
   "outputs": [
    {
     "name": "stdout",
     "output_type": "stream",
     "text": [
      ",AsimovSignificance,AsimovSignificance_0,ratio=(AS_0-AS)/AS_0\r\n",
      "SR_med_Wmn_ge1j,0.32183715107775795,0.3613190740413683,0.10927162665951584\r\n",
      "SR_med_Wmn_0j,1.1769750993991746,1.2944830714163442,0.09077598202083835\r\n",
      "SR_high_Wmn,1.0045000508858248,1.1346675321666178,0.11471860927600663\r\n"
     ]
    }
   ],
   "source": [
    "test_Wmn = calculate(\"vhbb_Wmn-2017.root\", \"Wmn\", 0, \"VV\", 15, 0, 1)\n",
    "test_Wmn['ratio=(AS_0-AS)/AS_0'] = (test_Wmn['AsimovSignificance_0'] - test_Wmn['AsimovSignificance'])/test_Wmn['AsimovSignificance_0']\n",
    "#print(test_Wen)\n",
    "test_Wmn.to_csv(\"test_WmnVV.csv\")\n",
    "!cat test_WmnVV.csv"
   ]
  },
  {
   "cell_type": "code",
   "execution_count": 33,
   "metadata": {},
   "outputs": [
    {
     "name": "stdout",
     "output_type": "stream",
     "text": [
      ",AsimovSignificance,AsimovSignificance_0,ratio=(AS_0-AS)/AS_0\r\n",
      "SR_med_Wmn_ge1j,0.3218261141555109,0.3613190740413683,0.10930217285272847\r\n",
      "SR_med_Wmn_0j,1.1762728611133275,1.2944830714163442,0.0913184675128106\r\n",
      "SR_high_Wmn,1.004128240107395,1.1346675321666178,0.1150462918507604\r\n"
     ]
    }
   ],
   "source": [
    "test_Wmn = calculate(\"vhbb_Wmn-2017.root\", \"Wmn\", 0, \"VVLF\", 15, 0, 1)\n",
    "test_Wmn['ratio=(AS_0-AS)/AS_0'] = (test_Wmn['AsimovSignificance_0'] - test_Wmn['AsimovSignificance'])/test_Wmn['AsimovSignificance_0']\n",
    "#print(test_Wen)\n",
    "test_Wmn.to_csv(\"test_WmnVVLF.csv\")\n",
    "!cat test_WmnVVLF.csv"
   ]
  },
  {
   "cell_type": "code",
   "execution_count": 34,
   "metadata": {},
   "outputs": [
    {
     "name": "stdout",
     "output_type": "stream",
     "text": [
      ",AsimovSignificance,AsimovSignificance_0,ratio=(AS_0-AS)/AS_0\r\n",
      "SR_med_Wmn_ge1j,0.32451300398297617,0.3613190740413683,0.1018658374348046\r\n",
      "SR_med_Wmn_0j,1.1932983943253646,1.2944830714163442,0.07816608754896237\r\n",
      "SR_high_Wmn,1.0340211898723852,1.1346675321666178,0.08870117408052647\r\n"
     ]
    }
   ],
   "source": [
    "test_Wmn = calculate(\"vhbb_Wmn-2017.root\", \"Wmn\", 0, \"j\", 15, 0, 1)\n",
    "test_Wmn['ratio=(AS_0-AS)/AS_0'] = (test_Wmn['AsimovSignificance_0'] - test_Wmn['AsimovSignificance'])/test_Wmn['AsimovSignificance_0']\n",
    "#print(test_Wen)\n",
    "test_Wmn.to_csv(\"test_WmnVj.csv\")\n",
    "!cat test_WmnVj.csv"
   ]
  },
  {
   "cell_type": "markdown",
   "metadata": {},
   "source": [
    "Znn AMS:"
   ]
  },
  {
   "cell_type": "code",
   "execution_count": 35,
   "metadata": {},
   "outputs": [
    {
     "name": "stdout",
     "output_type": "stream",
     "text": [
      ",AsimovSignificance,AsimovSignificance_0,ratio=(AS_0-AS)/AS_0\r\n",
      "SR_med_Znn_ge1j,0.1481556583618754,0.16160600124525362,0.08322922898739364\r\n",
      "SR_med_Znn_0j,0.25934823643288685,0.27867629989587456,0.06935668182120082\r\n",
      "SR_high_Znn,0.1940963570988533,0.2093053414823378,0.07266410057082984\r\n"
     ]
    }
   ],
   "source": [
    "_verbos = 1\n",
    "test_Znn = calculate(\"vhbb_Znn-2017.root\", \"Znn\", 0,\"aaa\", 15, 0, 1)\n",
    "test_Znn['ratio=(AS_0-AS)/AS_0'] = (test_Znn['AsimovSignificance_0'] - test_Znn['AsimovSignificance'])/test_Znn['AsimovSignificance_0']\n",
    "#print(test_Znn)\n",
    "test_Znn.to_csv(\"test_Znn.csv\")\n",
    "!cat test_Znn.csv"
   ]
  },
  {
   "cell_type": "code",
   "execution_count": 36,
   "metadata": {},
   "outputs": [
    {
     "name": "stdout",
     "output_type": "stream",
     "text": [
      ",AsimovSignificance,AsimovSignificance_0,ratio=(AS_0-AS)/AS_0\r\n",
      "SR_med_Znn_ge1j,0.15192434117623954,0.16160600124525362,0.05990903799618909\r\n",
      "SR_med_Znn_0j,0.26283716021924386,0.27867629989587456,0.05683705317800215\r\n",
      "SR_high_Znn,0.19666149666972274,0.2093053414823378,0.06040861032532223\r\n"
     ]
    }
   ],
   "source": [
    "test_Znn = calculate(\"vhbb_Znn-2017.root\", \"Znn\", 0,\"TT\", 15, 0, 1)\n",
    "test_Znn['ratio=(AS_0-AS)/AS_0'] = (test_Znn['AsimovSignificance_0'] - test_Znn['AsimovSignificance'])/test_Znn['AsimovSignificance_0']\n",
    "#print(test_Znn)\n",
    "test_Znn.to_csv(\"test_ZnnTT.csv\")\n",
    "!cat test_ZnnTT.csv"
   ]
  },
  {
   "cell_type": "code",
   "execution_count": 37,
   "metadata": {},
   "outputs": [
    {
     "name": "stdout",
     "output_type": "stream",
     "text": [
      ",AsimovSignificance,AsimovSignificance_0,ratio=(AS_0-AS)/AS_0\r\n",
      "SR_med_Znn_ge1j,0.1483714893452771,0.16160600124525362,0.08189369081592329\r\n",
      "SR_med_Znn_0j,0.26013433304802114,0.27867629989587456,0.0665358584665488\r\n",
      "SR_high_Znn,0.19536985064186452,0.2093053414823378,0.06657971909259285\r\n"
     ]
    }
   ],
   "source": [
    "test_Znn = calculate(\"vhbb_Znn-2017.root\", \"Znn\", 0,\"VV\", 15, 0, 1)\n",
    "test_Znn['ratio=(AS_0-AS)/AS_0'] = (test_Znn['AsimovSignificance_0'] - test_Znn['AsimovSignificance'])/test_Znn['AsimovSignificance_0']\n",
    "#print(test_Znn)\n",
    "test_Znn.to_csv(\"test_ZnnVV.csv\")\n",
    "!cat test_ZnnVV.csv"
   ]
  },
  {
   "cell_type": "code",
   "execution_count": 38,
   "metadata": {},
   "outputs": [
    {
     "name": "stdout",
     "output_type": "stream",
     "text": [
      ",AsimovSignificance,AsimovSignificance_0,ratio=(AS_0-AS)/AS_0\r\n",
      "SR_med_Znn_ge1j,0.1481565936741278,0.16160600124525362,0.08322344137898047\r\n",
      "SR_med_Znn_0j,0.25936547149474093,0.27867629989587456,0.06929483565107253\r\n",
      "SR_high_Znn,0.19409831837397656,0.2093053414823378,0.07265473016915082\r\n"
     ]
    }
   ],
   "source": [
    "test_Znn = calculate(\"vhbb_Znn-2017.root\", \"Znn\", 0,\"VVLF\", 15, 0, 1)\n",
    "test_Znn['ratio=(AS_0-AS)/AS_0'] = (test_Znn['AsimovSignificance_0'] - test_Znn['AsimovSignificance'])/test_Znn['AsimovSignificance_0']\n",
    "#print(test_Znn)\n",
    "test_Znn.to_csv(\"test_ZnnVVLF.csv\")\n",
    "!cat test_ZnnVVLF.csv"
   ]
  },
  {
   "cell_type": "code",
   "execution_count": 39,
   "metadata": {},
   "outputs": [
    {
     "name": "stdout",
     "output_type": "stream",
     "text": [
      ",AsimovSignificance,AsimovSignificance_0,ratio=(AS_0-AS)/AS_0\r\n",
      "SR_med_Znn_ge1j,0.14991192333466702,0.16160600124525362,0.07236165625334448\r\n",
      "SR_med_Znn_0j,0.26316431442608257,0.27867629989587456,0.055663095410653625\r\n",
      "SR_high_Znn,0.19671635310828592,0.2093053414823378,0.06014652222869424\r\n"
     ]
    }
   ],
   "source": [
    "test_Znn = calculate(\"vhbb_Znn-2017.root\", \"Znn\", 0,\"j\", 15, 0, 1)\n",
    "test_Znn['ratio=(AS_0-AS)/AS_0'] = (test_Znn['AsimovSignificance_0'] - test_Znn['AsimovSignificance'])/test_Znn['AsimovSignificance_0']\n",
    "#print(test_Znn)\n",
    "test_Znn.to_csv(\"test_ZnnVj.csv\")\n",
    "!cat test_ZnnVj.csv"
   ]
  },
  {
   "cell_type": "code",
   "execution_count": null,
   "metadata": {},
   "outputs": [],
   "source": []
  },
  {
   "cell_type": "code",
   "execution_count": null,
   "metadata": {},
   "outputs": [],
   "source": []
  },
  {
   "cell_type": "code",
   "execution_count": null,
   "metadata": {},
   "outputs": [],
   "source": []
  },
  {
   "cell_type": "code",
   "execution_count": null,
   "metadata": {},
   "outputs": [],
   "source": []
  },
  {
   "cell_type": "code",
   "execution_count": null,
   "metadata": {},
   "outputs": [],
   "source": []
  },
  {
   "cell_type": "code",
   "execution_count": null,
   "metadata": {},
   "outputs": [],
   "source": []
  }
 ],
 "metadata": {
  "kernelspec": {
   "display_name": "Python 2",
   "language": "python",
   "name": "python2"
  },
  "language_info": {
   "codemirror_mode": {
    "name": "ipython",
    "version": 2
   },
   "file_extension": ".py",
   "mimetype": "text/x-python",
   "name": "python",
   "nbconvert_exporter": "python",
   "pygments_lexer": "ipython2",
   "version": "2.7.16"
  }
 },
 "nbformat": 4,
 "nbformat_minor": 2
}
