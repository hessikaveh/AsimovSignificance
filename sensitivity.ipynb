{
 "cells": [
  {
   "cell_type": "code",
   "execution_count": 1,
   "metadata": {},
   "outputs": [
    {
     "name": "stdout",
     "output_type": "stream",
     "text": [
      "Welcome to JupyROOT 6.16/00\n"
     ]
    }
   ],
   "source": [
    "import ROOT\n",
    "import numpy as np\n",
    "import pandas as pd\n",
    "import math"
   ]
  },
  {
   "cell_type": "code",
   "execution_count": 18,
   "metadata": {},
   "outputs": [],
   "source": [
    "_verbos = 1"
   ]
  },
  {
   "cell_type": "code",
   "execution_count": 19,
   "metadata": {},
   "outputs": [],
   "source": [
    "def AsimovSignificance(h_s, h_b, sigma):\n",
    "    n_bins = h_s.GetNbinsX()\n",
    "    sigma_b = sigma\n",
    "    #ar_AS = pd.DataFrame()\n",
    "    ar_AS = []\n",
    "    for n in range(n_bins):\n",
    "        #print n \n",
    "        s = h_s.GetBinContent(n)\n",
    "        b = h_b.GetBinContent(n)\n",
    "        #print s\n",
    "        #print b\n",
    "        AS = ROOT.RooStats.AsimovSignificance(s, b, sigma_b)\n",
    "        #print AS\n",
    "        ar_AS_ = np.array([s, b, AS, sigma_b])\n",
    "        ar_AS.append(ar_AS_)\n",
    "    return ar_AS"
   ]
  },
  {
   "cell_type": "code",
   "execution_count": 20,
   "metadata": {},
   "outputs": [],
   "source": [
    "def Sensitivity(df, name):\n",
    "    if _verbos > 1:\n",
    "        print(df)\n",
    "    df['AsimovSignificance2%s' %(name)] = df['AsimovSignificance%s' % (name)]**2 \n",
    "    sen = df[(df['AsimovSignificance2%s' %(name)] >0) & (df['AsimovSignificance2%s' %(name)] < float('inf'))].sum()\n",
    "    sen = sen['AsimovSignificance2%s' %(name)]\n",
    "    return math.sqrt(sen)"
   ]
  },
  {
   "cell_type": "code",
   "execution_count": 21,
   "metadata": {},
   "outputs": [],
   "source": [
    "def calculate(filename, channel, input_sigma):\n",
    "    f_Zee = ROOT.TFile(\"%s\" % (filename))\n",
    "    h_s_low = ROOT.TH1F(\"h_s_low\", \"h_s_low\", 20, -1, 1)\n",
    "    h_s_med = ROOT.TH1F(\"h_s_med\", \"h_s_med\", 20, -1, 1)\n",
    "    h_s_high = ROOT.TH1F(\"h_s_high\", \"h_s_high\", 20, -1, 1)\n",
    "\n",
    "    reg_nam = ['SR_low_Zee', 'SR_low_Zmm', 'SR_med_Zee', 'SR_med_Zmm', 'SR_med_Znn_0j','SR_med_Znn_ge1j', 'SR_high_Zee', 'SR_high_Zmm', 'SR_high_Znn', 'SR_high_Wmn', 'SR_high_Wen', 'SR_med_Wmn','SR_med_Wen']\n",
    "    sam_nam = ['WH_lep', 'ZH_lep', 'ggZH_lep']\n",
    "    #sam_nam = ['ZH_lep', 'ggZH_lep']\n",
    "    ptv = ['PTV_0_75_hbb', 'PTV_150_250_0J_hbb', 'PTV_150_250_GE1J_hbb', 'PTV_75_150_hbb', 'PTV_GT250_hbb']\n",
    "    #ptv = ['PTV_0_75_hbb',   'PTV_75_150_hbb']\n",
    "\n",
    "    for reg in reg_nam:\n",
    "        for sam in sam_nam:\n",
    "            if \"%s\" %(channel) not in reg: break\n",
    "            for pt in ptv:\n",
    "                if \"low\" in reg:\n",
    "                    h_ = ROOT.TH1F()\n",
    "                    h_.Clear()\n",
    "                    h_ = f_Zee.Get(\"BDT_%s_%s_%s\"%(reg, sam, pt))\n",
    "                    h_s_low.Add(h_)\n",
    "                if \"med\" in reg:\n",
    "                    break\n",
    "                    h_ = ROOT.TH1F()\n",
    "                    h_.Clear()\n",
    "                    h_ = f_Zee.Get(\"BDT_%s_%s_%s\"%(reg, sam, pt))\n",
    "                    h_s_med.Add(h_)\n",
    "                if \"high\" in reg:\n",
    "                    h_ = ROOT.TH1F()\n",
    "                    h_.Clear()\n",
    "                    h_ = f_Zee.Get(\"BDT_%s_%s_%s\"%(reg, sam, pt))\n",
    "                    h_s_high.Add(h_)\n",
    "    \n",
    "    region_name = [ 'SR_low_Zee', 'SR_low_Zmm', 'SR_med_Zee', 'SR_med_Zmm', 'SR_med_Znn_0j','SR_med_Znn_ge1j', 'SR_high_Zee', 'SR_high_Zmm', 'SR_high_Znn', 'SR_high_Wmn', 'SR_high_Wen', 'SR_med_Wmn','SR_med_Wen']\n",
    "    region_name = [ 'SR_low_Zee', 'SR_low_Zmm', 'SR_med_Znn_0j','SR_med_Znn_ge1j', 'SR_high_Zee', 'SR_high_Zmm', 'SR_high_Znn', 'SR_high_Wmn', 'SR_high_Wen', 'SR_med_Wmn','SR_med_Wen']\n",
    "\n",
    "    sample_name = ['TT', 'VVHF', 'VVLF', 'Wj0b', 'Wj1b', 'Wj2b', 'Zj0b', 'Zj1b', 'Zj2b', 's_Top']\n",
    "    dict_AS = {}\n",
    "\n",
    "    sigma_b = input_sigma\n",
    "    for region in region_name:\n",
    "        for sample in sample_name:\n",
    "            if \"%s\" %(channel) not in region: break\n",
    "            #print(\"BDT_%s_TT\" % (region))\n",
    "            #print(\"BDT_%s_%s\" % (region, sample))\n",
    "            if \"low\" in region:\n",
    "                h_s = h_s_low.Clone()\n",
    "            if \"med\" in region:\n",
    "                h_s = h_s_med.Clone()\n",
    "            if \"high\" in region:\n",
    "                h_s = h_s_high.Clone()\n",
    "            \n",
    "            h_b = f_Zee.Get(\"BDT_%s_%s\" % (region, sample))\n",
    "            l = AsimovSignificance(h_s, h_b, sigma_b)\n",
    "            df = pd.DataFrame(l, columns=['signal', 'background', 'AsimovSignificance%s' %(region+sample), 'sigma_b'])\n",
    "            sen = Sensitivity(df, region+sample)\n",
    "            dict_AS.update({region+'_'+sample : [sen, sigma_b]})\n",
    "\n",
    "    df_AS = pd.DataFrame.from_dict(dict_AS, orient='index', columns=['AsimovSignificance', 'sigma_b'])\n",
    "\n",
    "    return df_AS"
   ]
  },
  {
   "cell_type": "code",
   "execution_count": 22,
   "metadata": {},
   "outputs": [],
   "source": [
    "test_Zee = calculate(\"vhbb_Zee-2017.root\", \"Zee\", 10)"
   ]
  },
  {
   "cell_type": "code",
   "execution_count": 23,
   "metadata": {},
   "outputs": [
    {
     "name": "stdout",
     "output_type": "stream",
     "text": [
      "                   AsimovSignificance  sigma_b\n",
      "SR_low_Zee_Wj2b              0.032858       10\n",
      "SR_high_Zee_Zj0b             0.131087       10\n",
      "SR_high_Zee_VVHF             0.146171       10\n",
      "SR_low_Zee_VVHF              0.899460       10\n",
      "SR_low_Zee_VVLF              0.640657       10\n",
      "SR_high_Zee_TT               0.090553       10\n",
      "SR_low_Zee_Zj0b              0.784782       10\n",
      "SR_low_Zee_Wj0b              0.008117       10\n",
      "SR_low_Zee_Zj2b              0.658433       10\n",
      "SR_high_Zee_s_Top            0.038826       10\n",
      "SR_high_Zee_Zj1b             0.153579       10\n",
      "SR_high_Zee_Wj0b             0.004525       10\n",
      "SR_high_Zee_VVLF             0.086880       10\n",
      "SR_high_Zee_Wj1b             0.000000       10\n",
      "SR_high_Zee_Wj2b             0.000000       10\n",
      "SR_low_Zee_TT                0.730971       10\n",
      "SR_low_Zee_Wj1b              0.000000       10\n",
      "SR_low_Zee_Zj1b              0.784248       10\n",
      "SR_high_Zee_Zj2b             0.164508       10\n",
      "SR_low_Zee_s_Top             0.769871       10\n"
     ]
    }
   ],
   "source": [
    "print(test_Zee)"
   ]
  },
  {
   "cell_type": "code",
   "execution_count": 41,
   "metadata": {},
   "outputs": [],
   "source": [
    "test_Zmm_0 = calculate(\"vhbb_Zmm-2017.root\", \"Zmm\", 0)\n",
    "test_Zmm_10 = calculate(\"vhbb_Zmm-2017.root\", \"Zmm\", 10)"
   ]
  },
  {
   "cell_type": "code",
   "execution_count": 42,
   "metadata": {},
   "outputs": [
    {
     "name": "stdout",
     "output_type": "stream",
     "text": [
      "                   AsimovSignificance  AsimovSignificance_10     ratio\n",
      "SR_high_Zmm_VVLF             3.173804               0.137642  0.043368\n",
      "SR_high_Zmm_Zj0b             2.625846               0.184764  0.070364\n",
      "SR_high_Zmm_Wj2b             0.000000               0.000000       NaN\n",
      "SR_low_Zmm_TT                1.781547               0.986879  0.553945\n",
      "SR_high_Zmm_s_Top            0.724859               0.048559  0.066991\n",
      "SR_low_Zmm_Zj2b              1.204040               0.878503  0.729629\n",
      "SR_high_Zmm_Zj1b             1.986834               0.201395  0.101365\n",
      "SR_high_Zmm_Zj2b             1.026123               0.225710  0.219964\n",
      "SR_low_Zmm_Wj1b              0.000000               0.000000       NaN\n",
      "SR_low_Zmm_Wj2b              1.595338               0.047209  0.029592\n",
      "SR_high_Zmm_Wj1b             0.000000               0.000000       NaN\n",
      "SR_high_Zmm_VVHF             1.589894               0.214473  0.134898\n",
      "SR_low_Zmm_VVHF              2.974906               1.270856  0.427192\n",
      "SR_low_Zmm_VVLF             10.070097               0.967841  0.096110\n",
      "SR_high_Zmm_TT               2.604314               0.140961  0.054126\n",
      "SR_low_Zmm_Zj0b              5.506340               1.079222  0.195996\n",
      "SR_low_Zmm_Wj0b              0.372331               0.007702  0.020686\n",
      "SR_low_Zmm_s_Top             7.181194               1.136016  0.158193\n",
      "SR_low_Zmm_Zj1b              2.563198               1.092065  0.426056\n",
      "SR_high_Zmm_Wj0b             0.000000               0.000000       NaN\n"
     ]
    }
   ],
   "source": [
    "test_Zmm_0 = test_Zmm_0.drop(columns=['sigma_b'])\n",
    "test_Zmm_0['AsimovSignificance_10'] = test_Zmm_10['AsimovSignificance']\n",
    "test_Zmm_0['ratio'] = test_Zmm_0['AsimovSignificance_10']/test_Zmm_0['AsimovSignificance']\n",
    "print(test_Zmm_0)\n"
   ]
  },
  {
   "cell_type": "code",
   "execution_count": null,
   "metadata": {},
   "outputs": [],
   "source": []
  },
  {
   "cell_type": "code",
   "execution_count": null,
   "metadata": {},
   "outputs": [],
   "source": []
  }
 ],
 "metadata": {
  "kernelspec": {
   "display_name": "Python 2",
   "language": "python",
   "name": "python2"
  },
  "language_info": {
   "codemirror_mode": {
    "name": "ipython",
    "version": 2
   },
   "file_extension": ".py",
   "mimetype": "text/x-python",
   "name": "python",
   "nbconvert_exporter": "python",
   "pygments_lexer": "ipython2",
   "version": "2.7.16"
  }
 },
 "nbformat": 4,
 "nbformat_minor": 2
}
